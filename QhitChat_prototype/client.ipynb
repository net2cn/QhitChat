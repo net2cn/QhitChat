{
 "cells": [
  {
   "cell_type": "code",
   "execution_count": 12,
   "source": [
    "import socket\r\n",
    "import ssl\r\n",
    "import json\r\n",
    "import time\r\n",
    "import jsonrpcclient\r\n",
    "from jsonrpcserver import method, dispatch\r\n",
    "import base64\r\n",
    "import os\r\n",
    "\r\n",
    "from cryptography.hazmat.primitives import hashes\r\n",
    "from cryptography.hazmat.primitives.asymmetric.x25519 import X25519PublicKey, X25519PrivateKey\r\n",
    "from cryptography.hazmat.primitives.asymmetric.ed25519 import Ed25519PublicKey, Ed25519PrivateKey\r\n",
    "from cryptography.hazmat.primitives.ciphers.aead import ChaCha20Poly1305\r\n",
    "from cryptography.hazmat.primitives.kdf.hkdf import HKDF\r\n",
    "from cryptography.hazmat.primitives import serialization"
   ],
   "outputs": [],
   "metadata": {}
  },
  {
   "cell_type": "code",
   "execution_count": 28,
   "source": [
    "HOST, PORT = \"localhost\", 23340\r\n",
    "\r\n",
    "# Create a socket (SOCK_STREAM means a TCP socket)\r\n",
    "context = ssl.create_default_context()\r\n",
    "context = ssl.SSLContext(ssl.PROTOCOL_TLS_CLIENT)\r\n",
    "context.load_verify_locations(cafile=\"C:/Users/mcope/OneDrive - stu.scau.edu.cn/School Works/Computer Network/QhitChat/Certificate/server.pem\")\r\n",
    "\r\n",
    "@method\r\n",
    "def ping_pong():\r\n",
    "    return \"pong from client\"\r\n",
    "\r\n",
    "def construct_payload(content: str):\r\n",
    "    payload=bytes(str(content)+\"\\n\", encoding=\"utf8\")\r\n",
    "    return len(payload).to_bytes(4, \"big\")+payload"
   ],
   "outputs": [],
   "metadata": {}
  },
  {
   "cell_type": "code",
   "execution_count": 29,
   "source": [
    "# client invoke test.\r\n",
    "with socket.socket(socket.AF_INET, socket.SOCK_STREAM) as sock:\r\n",
    "    sock.connect((HOST, PORT))\r\n",
    "    sock.ioctl(socket.SIO_KEEPALIVE_VALS, (1, 10000, 3000))\r\n",
    "\r\n",
    "    # wrap with TLS layer to add security.\r\n",
    "    sock = context.wrap_socket(sock, server_hostname=\"QhitChat-Server\")\r\n",
    "\r\n",
    "    # Initiate request\r\n",
    "    sock.sendall(construct_payload(jsonrpcclient.request(\"Ping\")))\r\n",
    "\r\n",
    "    # Receive response from server\r\n",
    "    received = sock.recv(1024)\r\n",
    "    print(received)\r\n",
    "    l, result = int.from_bytes(received[0:4], \"big\"), jsonrpcclient.parse(json.loads(str(received[7:], \"utf8\")))\r\n",
    "    print(result)"
   ],
   "outputs": [
    {
     "output_type": "stream",
     "name": "stdout",
     "text": [
      "b'\\x00\\x00\\x00,\\xef\\xbb\\xbf{\"jsonrpc\":\"2.0\",\"id\":19,\"result\":\"Pong\"}'\n",
      "Ok(result='Pong', id=19)\n"
     ]
    }
   ],
   "metadata": {}
  },
  {
   "cell_type": "code",
   "execution_count": 30,
   "source": [
    "# server invoke test.\r\n",
    "with socket.socket(socket.AF_INET, socket.SOCK_STREAM) as sock:\r\n",
    "    sock.connect((HOST, PORT))\r\n",
    "    sock.ioctl(socket.SIO_KEEPALIVE_VALS, (1, 10000, 3000))\r\n",
    "\r\n",
    "    # wrap with TLS layer to add security.\r\n",
    "    sock = context.wrap_socket(sock, server_hostname=\"QhitChat-Server\")\r\n",
    "\r\n",
    "    # Initiate request\r\n",
    "    sock.sendall(construct_payload(jsonrpcclient.request(\"PingPong\")))\r\n",
    "\r\n",
    "    # Receive response from server\r\n",
    "    received = sock.recv(1024)\r\n",
    "    print(str(received[7:], \"utf8\"))\r\n",
    "\r\n",
    "    # Respond server RPC call\r\n",
    "    response = dispatch(str(received[7:], \"utf8\"))\r\n",
    "    print(str(response))\r\n",
    "    if response.wanted:\r\n",
    "        sock.sendall(construct_payload(str(response)))\r\n",
    "    \r\n",
    "    received = sock.recv(1024)\r\n",
    "    l, result = int.from_bytes(received[0:4], \"big\"), jsonrpcclient.parse(json.loads(str(received[7:], \"utf8\")))\r\n",
    "    print(result)"
   ],
   "outputs": [
    {
     "output_type": "stream",
     "name": "stdout",
     "text": [
      "{\"jsonrpc\":\"2.0\",\"id\":2,\"method\":\"ping_pong\",\"params\":[]}\n",
      "{\"jsonrpc\": \"2.0\", \"result\": \"pong from client\", \"id\": 2}\n",
      "Ok(result='Pong from server', id=20)\n"
     ]
    }
   ],
   "metadata": {}
  },
  {
   "cell_type": "code",
   "execution_count": null,
   "source": [
    "HOST, PORT = \"localhost\", 23340\r\n",
    "\r\n",
    "# Create a socket (SOCK_STREAM means a TCP socket)\r\n",
    "with socket.socket(socket.AF_INET, socket.SOCK_STREAM) as sock:\r\n",
    "    sock.connect((HOST, PORT))\r\n",
    "    sock.ioctl(socket.SIO_KEEPALIVE_VALS, (1, 10000, 3000))\r\n",
    "\r\n",
    "    start_time=time.time()\r\n",
    "    count=0\r\n",
    "    while True:\r\n",
    "        # Authenticate server by selecting a random nonuce and encrypts it with server public key.\r\n",
    "        nonce = os.urandom(128)\r\n",
    "\r\n",
    "        # Generate a private key for use in the exchange.\r\n",
    "        private_key = X25519PrivateKey.generate()\r\n",
    "\r\n",
    "        # Connect to server and send data\r\n",
    "        payload=bytes(str(jsonrpcclient.request(\"ExchangePublicKey\", [str(base64.b64encode(private_key.public_key().public_bytes(encoding=serialization.Encoding.Raw, format=serialization.PublicFormat.Raw)), encoding=\"utf8\"),\r\n",
    "                                                                      str(base64.b64encode())]))+\"\\n\", encoding=\"utf8\")\r\n",
    "        sock.sendall(len(payload).to_bytes(4, \"big\")+payload)\r\n",
    "\r\n",
    "        # Receive data from the server\r\n",
    "        received = sock.recv(1024)\r\n",
    "        l, result = int.from_bytes(received[0:4], \"big\"), jsonrpcclient.parse(json.loads(str(received[7:], \"utf8\")))\r\n",
    "\r\n",
    "        # print(\"Received: {}\".format(received))\r\n",
    "\r\n",
    "        peer_public_key = X25519PublicKey.from_public_bytes(base64.b64decode(result.result))\r\n",
    "        shared_key = private_key.exchange(peer_public_key)\r\n",
    "\r\n",
    "        # Perform key derivation.\r\n",
    "        derived_key = HKDF(\r\n",
    "            algorithm=hashes.SHA512(),\r\n",
    "            length=32,\r\n",
    "            salt=None,\r\n",
    "            info=b'handshake data',\r\n",
    "        ).derive(shared_key)\r\n",
    "        # print(base64.b64encode(derived_key))\r\n",
    "        \r\n",
    "        count+=1\r\n",
    "        if time.time()-start_time>5:\r\n",
    "            print(\"{}requests/s\".format(count/(time.time()-start_time)))\r\n",
    "            start_time=time.time()\r\n",
    "            count=0"
   ],
   "outputs": [
    {
     "output_type": "stream",
     "name": "stdout",
     "text": [
      "319.7990850474785requests/s\n",
      "409.27051439938356requests/s\n",
      "392.19457662452595requests/s\n",
      "471.01870350958205requests/s\n",
      "410.53853135164053requests/s\n",
      "472.833945178688requests/s\n",
      "406.5328503707083requests/s\n",
      "440.88546638389306requests/s\n",
      "470.4621020059094requests/s\n",
      "473.22377262301717requests/s\n",
      "446.65434202932653requests/s\n",
      "472.537179867865requests/s\n",
      "451.8080009029366requests/s\n",
      "422.69091857665364requests/s\n",
      "470.8940621287764requests/s\n",
      "432.71346357983333requests/s\n"
     ]
    },
    {
     "output_type": "error",
     "ename": "KeyboardInterrupt",
     "evalue": "",
     "traceback": [
      "\u001b[1;31m---------------------------------------------------------------------------\u001b[0m",
      "\u001b[1;31mKeyboardInterrupt\u001b[0m                         Traceback (most recent call last)",
      "\u001b[1;32m<ipython-input-144-bfbacb2d41b4>\u001b[0m in \u001b[0;36m<module>\u001b[1;34m\u001b[0m\n\u001b[0;32m     17\u001b[0m \u001b[1;33m\u001b[0m\u001b[0m\n\u001b[0;32m     18\u001b[0m         \u001b[1;31m# Receive data from the server\u001b[0m\u001b[1;33m\u001b[0m\u001b[1;33m\u001b[0m\u001b[1;33m\u001b[0m\u001b[0m\n\u001b[1;32m---> 19\u001b[1;33m         \u001b[0mreceived\u001b[0m \u001b[1;33m=\u001b[0m \u001b[0msock\u001b[0m\u001b[1;33m.\u001b[0m\u001b[0mrecv\u001b[0m\u001b[1;33m(\u001b[0m\u001b[1;36m1024\u001b[0m\u001b[1;33m)\u001b[0m\u001b[1;33m\u001b[0m\u001b[1;33m\u001b[0m\u001b[0m\n\u001b[0m\u001b[0;32m     20\u001b[0m         \u001b[0ml\u001b[0m\u001b[1;33m,\u001b[0m \u001b[0mresult\u001b[0m \u001b[1;33m=\u001b[0m \u001b[0mint\u001b[0m\u001b[1;33m.\u001b[0m\u001b[0mfrom_bytes\u001b[0m\u001b[1;33m(\u001b[0m\u001b[0mreceived\u001b[0m\u001b[1;33m[\u001b[0m\u001b[1;36m0\u001b[0m\u001b[1;33m:\u001b[0m\u001b[1;36m4\u001b[0m\u001b[1;33m]\u001b[0m\u001b[1;33m,\u001b[0m \u001b[1;34m\"big\"\u001b[0m\u001b[1;33m)\u001b[0m\u001b[1;33m,\u001b[0m \u001b[0mjsonrpcclient\u001b[0m\u001b[1;33m.\u001b[0m\u001b[0mparse\u001b[0m\u001b[1;33m(\u001b[0m\u001b[0mjson\u001b[0m\u001b[1;33m.\u001b[0m\u001b[0mloads\u001b[0m\u001b[1;33m(\u001b[0m\u001b[0mstr\u001b[0m\u001b[1;33m(\u001b[0m\u001b[0mreceived\u001b[0m\u001b[1;33m[\u001b[0m\u001b[1;36m7\u001b[0m\u001b[1;33m:\u001b[0m\u001b[1;33m]\u001b[0m\u001b[1;33m,\u001b[0m \u001b[1;34m\"utf8\"\u001b[0m\u001b[1;33m)\u001b[0m\u001b[1;33m)\u001b[0m\u001b[1;33m)\u001b[0m\u001b[1;33m\u001b[0m\u001b[1;33m\u001b[0m\u001b[0m\n\u001b[0;32m     21\u001b[0m \u001b[1;33m\u001b[0m\u001b[0m\n",
      "\u001b[1;31mKeyboardInterrupt\u001b[0m: "
     ]
    }
   ],
   "metadata": {}
  },
  {
   "cell_type": "code",
   "execution_count": 72,
   "source": [
    "# Server private key\r\n",
    "server_private_key = Ed25519PrivateKey.generate()\r\n",
    "server_exchange_private_key = X25519PrivateKey.generate()\r\n",
    "\r\n",
    "# Client private key\r\n",
    "client_exchange_private_key = X25519PrivateKey.generate()\r\n",
    "\r\n",
    "# Client generate nonce for authentication.\r\n",
    "client_nonce = os.urandom(128)\r\n",
    "payload=client_nonce+client_exchange_private_key.public_key().public_bytes(encoding=serialization.Encoding.Raw, format=serialization.PublicFormat.Raw)\r\n",
    "\r\n",
    "# Server accept nonce and public key\r\n",
    "accept_client_nonce=payload[0:128]\r\n",
    "accept_client_public_key=payload[128:]\r\n",
    "\r\n",
    "# Server generate server nounce, append its public key for key exchange, sign it with its own private key and send it back.\r\n",
    "server_nonce = os.urandom(128)\r\n",
    "payload=client_nonce+server_nonce+server_exchange_private_key.public_key().public_bytes(encoding=serialization.Encoding.Raw, format=serialization.PublicFormat.Raw)\r\n",
    "signature=server_private_key.sign(payload)\r\n",
    "\r\n",
    "# Cilent verify if payload is sent from server.\r\n",
    "if not server_private_key.public_key().verify(signature, payload): # Check if the message is from server or not by verifying signature\r\n",
    "    accept_client_nonce=payload[0:128]\r\n",
    "    print(accept_client_nonce==client_nonce)\r\n",
    "    accept_server_nonce=payload[128:256]\r\n",
    "    accept_server_public_key=X25519PublicKey.from_public_bytes(payload[256:])\r\n",
    "    client_shared_key = private_key.exchange(accept_server_public_key)\r\n",
    "    # Perform key derivation.\r\n",
    "    derived_key = HKDF(\r\n",
    "        algorithm=hashes.SHA512(),\r\n",
    "        length=32,\r\n",
    "        salt=None,\r\n",
    "        info=b'handshake data',\r\n",
    "    ).derive(client_shared_key)\r\n",
    "    chacha = ChaCha20Poly1305(derived_key)\r\n",
    "    payload = chacha.encrypt(accept_client_nonce, \"hello\", )"
   ],
   "outputs": [
    {
     "output_type": "stream",
     "name": "stdout",
     "text": [
      "True\n"
     ]
    }
   ],
   "metadata": {}
  },
  {
   "cell_type": "code",
   "execution_count": null,
   "source": [
    "import OpenSSL\r\n",
    "key = OpenSSL.crypto.PKey()\r\n",
    "key.generate_key( OpenSSL.crypto.TYPE_RSA, 1024 )\r\n",
    "cert = OpenSSL.crypto.X509()\r\n",
    "cert.set_serial_number(0)\r\n",
    "cert.get_subject().CN = \"me\"\r\n",
    "cert.set_issuer( cert.get_subject() )\r\n",
    "cert.gmtime_adj_notBefore( 0 )\r\n",
    "cert.gmtime_adj_notAfter( 10*365*24*60*60 )\r\n",
    "cert.set_pubkey( key )\r\n",
    "cert.sign( key, 'md5' )\r\n",
    "open( \"certificate.cer\", 'w' ).write( \r\n",
    "  OpenSSL.crypto.dump_certificate( OpenSSL.crypto.FILETYPE_PEM, cert ) )\r\n",
    "open( \"private_key.pem\", 'w' ).write( \r\n",
    "  OpenSSL.crypto.dump_privatekey( OpenSSL.crypto.FILETYPE_PEM, key ) )\r\n",
    "p12 = OpenSSL.crypto.PKCS12()\r\n",
    "p12.set_privatekey( key )\r\n",
    "p12.set_certificate( cert )\r\n",
    "open( \"d:/container.pfx\", 'wb' ).write( p12.export() )"
   ],
   "outputs": [],
   "metadata": {}
  },
  {
   "cell_type": "code",
   "execution_count": 2,
   "source": [
    "import socket\r\n",
    "import ssl\r\n",
    "\r\n",
    "# SET VARIABLES\r\n",
    "packet, reply = \"<packet>SOME_DATA</packet>\", \"\"\r\n",
    "HOST, PORT = '127.0.0.1', 23340\r\n",
    "\r\n",
    "# CREATE SOCKET\r\n",
    "sock = socket.socket(socket.AF_INET, socket.SOCK_STREAM)\r\n",
    "sock.settimeout(10)\r\n",
    "\r\n",
    "# WRAP SOCKET\r\n",
    "wrappedSocket = ssl.wrap_socket(sock)\r\n",
    "\r\n",
    "# CONNECT AND PRINT REPLY\r\n",
    "wrappedSocket.connect((HOST, PORT))\r\n",
    "wrappedSocket.send(packet)\r\n",
    "print(wrappedSocket.recv(1280))\r\n",
    "\r\n",
    "# CLOSE SOCKET CONNECTION\r\n",
    "wrappedSocket.close()"
   ],
   "outputs": [
    {
     "output_type": "error",
     "ename": "TypeError",
     "evalue": "a bytes-like object is required, not 'str'",
     "traceback": [
      "\u001b[1;31m---------------------------------------------------------------------------\u001b[0m",
      "\u001b[1;31mTypeError\u001b[0m                                 Traceback (most recent call last)",
      "\u001b[1;32m<ipython-input-2-5c7122790239>\u001b[0m in \u001b[0;36m<module>\u001b[1;34m\u001b[0m\n\u001b[0;32m     15\u001b[0m \u001b[1;31m# CONNECT AND PRINT REPLY\u001b[0m\u001b[1;33m\u001b[0m\u001b[1;33m\u001b[0m\u001b[1;33m\u001b[0m\u001b[0m\n\u001b[0;32m     16\u001b[0m \u001b[0mwrappedSocket\u001b[0m\u001b[1;33m.\u001b[0m\u001b[0mconnect\u001b[0m\u001b[1;33m(\u001b[0m\u001b[1;33m(\u001b[0m\u001b[0mHOST\u001b[0m\u001b[1;33m,\u001b[0m \u001b[0mPORT\u001b[0m\u001b[1;33m)\u001b[0m\u001b[1;33m)\u001b[0m\u001b[1;33m\u001b[0m\u001b[1;33m\u001b[0m\u001b[0m\n\u001b[1;32m---> 17\u001b[1;33m \u001b[0mwrappedSocket\u001b[0m\u001b[1;33m.\u001b[0m\u001b[0msend\u001b[0m\u001b[1;33m(\u001b[0m\u001b[0mpacket\u001b[0m\u001b[1;33m)\u001b[0m\u001b[1;33m\u001b[0m\u001b[1;33m\u001b[0m\u001b[0m\n\u001b[0m\u001b[0;32m     18\u001b[0m \u001b[0mprint\u001b[0m\u001b[1;33m(\u001b[0m\u001b[0mwrappedSocket\u001b[0m\u001b[1;33m.\u001b[0m\u001b[0mrecv\u001b[0m\u001b[1;33m(\u001b[0m\u001b[1;36m1280\u001b[0m\u001b[1;33m)\u001b[0m\u001b[1;33m)\u001b[0m\u001b[1;33m\u001b[0m\u001b[1;33m\u001b[0m\u001b[0m\n\u001b[0;32m     19\u001b[0m \u001b[1;33m\u001b[0m\u001b[0m\n",
      "\u001b[1;32m~\\anaconda3\\envs\\pytorch\\lib\\ssl.py\u001b[0m in \u001b[0;36msend\u001b[1;34m(self, data, flags)\u001b[0m\n\u001b[0;32m   1001\u001b[0m                     \u001b[1;34m\"non-zero flags not allowed in calls to send() on %s\"\u001b[0m \u001b[1;33m%\u001b[0m\u001b[1;33m\u001b[0m\u001b[1;33m\u001b[0m\u001b[0m\n\u001b[0;32m   1002\u001b[0m                     self.__class__)\n\u001b[1;32m-> 1003\u001b[1;33m             \u001b[1;32mreturn\u001b[0m \u001b[0mself\u001b[0m\u001b[1;33m.\u001b[0m\u001b[0m_sslobj\u001b[0m\u001b[1;33m.\u001b[0m\u001b[0mwrite\u001b[0m\u001b[1;33m(\u001b[0m\u001b[0mdata\u001b[0m\u001b[1;33m)\u001b[0m\u001b[1;33m\u001b[0m\u001b[1;33m\u001b[0m\u001b[0m\n\u001b[0m\u001b[0;32m   1004\u001b[0m         \u001b[1;32melse\u001b[0m\u001b[1;33m:\u001b[0m\u001b[1;33m\u001b[0m\u001b[1;33m\u001b[0m\u001b[0m\n\u001b[0;32m   1005\u001b[0m             \u001b[1;32mreturn\u001b[0m \u001b[0msuper\u001b[0m\u001b[1;33m(\u001b[0m\u001b[1;33m)\u001b[0m\u001b[1;33m.\u001b[0m\u001b[0msend\u001b[0m\u001b[1;33m(\u001b[0m\u001b[0mdata\u001b[0m\u001b[1;33m,\u001b[0m \u001b[0mflags\u001b[0m\u001b[1;33m)\u001b[0m\u001b[1;33m\u001b[0m\u001b[1;33m\u001b[0m\u001b[0m\n",
      "\u001b[1;31mTypeError\u001b[0m: a bytes-like object is required, not 'str'"
     ]
    }
   ],
   "metadata": {}
  }
 ],
 "metadata": {
  "orig_nbformat": 4,
  "language_info": {
   "name": "python",
   "version": "3.7.9",
   "mimetype": "text/x-python",
   "codemirror_mode": {
    "name": "ipython",
    "version": 3
   },
   "pygments_lexer": "ipython3",
   "nbconvert_exporter": "python",
   "file_extension": ".py"
  },
  "kernelspec": {
   "name": "python3",
   "display_name": "Python 3.7.9 64-bit ('pytorch': conda)"
  },
  "interpreter": {
   "hash": "fe67358d739a3db0392f3b2bd9fe13838f6b4bddda17d8eab99890887ca998b9"
  }
 },
 "nbformat": 4,
 "nbformat_minor": 2
}